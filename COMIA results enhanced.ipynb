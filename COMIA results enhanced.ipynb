{
 "cells": [
  {
   "cell_type": "code",
   "execution_count": null,
   "id": "0dfcad3d-ff1e-4088-a678-29b3c5171649",
   "metadata": {},
   "outputs": [],
   "source": [
    "!git clone https://github.com/JesusASmx/AniMEX-at-COMIA-enhanced\n",
   ]
  },
  {
   "cell_type": "code",
   "execution_count": 1,
   "id": "f5b7f742-150b-40c9-843e-03e40ce3e33e",
   "metadata": {},
   "outputs": [],
   "source": [
    "import pandas as pd\n",
    "\n",
    "HF = pd.read_csv(\"AnimeHF2022.csv\")"
   ]
  },
  {
   "cell_type": "markdown",
   "id": "3dcd68ef-7669-456d-a4dd-5fef8ba2e83a",
   "metadata": {},
   "source": [
    "STEP 1: We clean the dataset.\n",
    "\n",
    "1.- We eliminate entries with no score and meaningless synopsis (as a naive benchmark, with less than 200 characters) and we drop all useless columns.\n",
    "\n",
    "2.- We state the binary classification. In the paper we used 7 as thresshold. However, here we will also use C (which is the mean of all scores of all animes in MyAnimeList).\n",
    "\n",
    "IF YOU WANT TO SKIP THIS RUNS, GO TO THE SIXTH CELL (Step 2)"
   ]
  },
  {
   "cell_type": "code",
   "execution_count": 2,
   "id": "9cecdbb9-3477-4a92-9522-9ff51c85b2a5",
   "metadata": {},
   "outputs": [
    {
     "name": "stdout",
     "output_type": "stream",
     "text": [
      "Before removing entries with no score, the dataset had 21460 entries.\n",
      "After removing them, only 14562 entries remained.\n",
      "Finally, only 9459 entries remained after removing animes with short synopsis.\n"
     ]
    }
   ],
   "source": [
    "print(f\"Before removing entries with no score, the dataset had {len(HF)} entries.\")\n",
    "HF = HF[HF['Score'].between(0, 10)] #Remove entries with no score.\n",
    "print(f\"After removing them, only {len(HF)} entries remained.\")\n",
    "\n",
    "HF = HF[HF['Synopsis'].str.len() > 200]\n",
    "print(f\"Finally, only {len(HF)} entries remained after removing animes with short synopsis.\")\n",
    "\n",
    "#Also, we remove basic noise from the synopsis.\n",
    "HF['Synopsis'] = HF['Synopsis'].str.replace('\\n','').str.replace('\\r','').str.replace('[','').str.replace(']','')\n",
    "HF['Synopsis'] = HF['Synopsis'].str.replace('Written by MAL Rewrite',\"\")\n",
    "\n",
    "HF = HF[['ID','Title','Synopsis','Score']]\n",
    "HF = HF.reset_index(drop=True)"
   ]
  },
  {
   "cell_type": "code",
   "execution_count": 3,
   "id": "e5cb4d81-aeb4-4066-ad2e-ebfeaf45532d",
   "metadata": {},
   "outputs": [
    {
     "name": "stdout",
     "output_type": "stream",
     "text": [
      "(Balanced) Animes with 1: 4729. With 0: 4730\n",
      "(7) Animes with 1: 3358. With 0: 6101\n"
     ]
    }
   ],
   "source": [
    "import numpy as np\n",
    "\n",
    "#We generate two binary datasets: one splitted with 7 (Score 7 or more corresponds to 1 and visceversa) and the other balanced (by trial-and-error :'v).\n",
    "\n",
    "def binarier(defe, thress):\n",
    "    defe['Score'] = np.where(defe['Score'] < thress, 0, defe['Score'])\n",
    "    defe['Score'] = np.where(defe['Score'] >= thress, 1, defe['Score'])\n",
    "    return defe\n",
    "\n",
    "HF7 = HF.copy()\n",
    "HF7 = binarier(HF7, 7)\n",
    "HFC = HF.copy()\n",
    "HFC = binarier(HFC, 6.62)\n",
    "\n",
    "print(f\"(Balanced) Animes with 1: {HFC['Score'].value_counts()[0]}. With 0: {HFC['Score'].value_counts()[1]}\")\n",
    "print(f\"(7) Animes with 1: {HF7['Score'].value_counts()[1]}. With 0: {HF7['Score'].value_counts()[0]}\")"
   ]
  },
  {
   "cell_type": "code",
   "execution_count": 4,
   "id": "0908bdef-d9c8-4124-af54-9ca3550e89d6",
   "metadata": {},
   "outputs": [
    {
     "name": "stdout",
     "output_type": "stream",
     "text": [
      "(7) Animes with 1: 3358. With 0: 3358\n"
     ]
    }
   ],
   "source": [
    "#We balance the 7-binary.\n",
    "A_quitar = HF7['Score'].value_counts()[0]-HF7['Score'].value_counts()[1]\n",
    "for i in range(len(HF7)):\n",
    "    if A_quitar == 0:\n",
    "        break\n",
    "    elif HF7['Score'][i] == 0.0: #Majority Class\n",
    "        HF7 = HF7.drop(i, axis = 0)\n",
    "        A_quitar = A_quitar-1\n",
    "\n",
    "HF7.reset_index(drop=True)\n",
    "print(f\"(7) Animes with 1: {HF7['Score'].value_counts()[1]}. With 0: {HF7['Score'].value_counts()[0]}\")\n",
    "\n",
    "HF7.to_csv(\"HF7.csv\")\n",
    "HFC.to_csv(\"HFC.csv\")"
   ]
  },
  {
   "cell_type": "markdown",
   "id": "6269f46c-ad0a-4a90-9891-3a00f1c9437f",
   "metadata": {},
   "source": [
    "STEP 2: We vectorice the synopsis.\n",
    "\n",
    "1.- We perform some basic preprocessing.\n",
    "\n",
    "2.- We obtain a Bag-of-Words vectorization (only that was enough to enhance the results xD)."
   ]
  },
  {
   "cell_type": "code",
   "execution_count": null,
   "id": "fae85b45-d480-4fdd-b087-2382f7d2a8fe",
   "metadata": {},
   "outputs": [],
   "source": [
    "HF7 = pd.read_csv(\"HF7.csv\")\n",
    "HFC = pf.read_csv(\"HFC.csv\")"
   ]
  },
  {
   "cell_type": "code",
   "execution_count": 5,
   "id": "36f7bd5c-9d41-4266-8394-643f60d591db",
   "metadata": {},
   "outputs": [],
   "source": [
    "#Preprocessing.\n",
    "\n",
    "import re\n",
    "import spacy\n",
    "nlp = spacy.load(\"en_core_web_sm\")\n",
    "import nltk\n",
    "from nltk.stem.porter import *\n",
    "stemmer = PorterStemmer()\n",
    "\n",
    "def preprocess_synopsis(text):\n",
    "    text = text.lower()\n",
    "    text = re.sub(r'[^a-zA-Z0-9\\s]', '', text).replace('\\n', '').replace('\\r', '')\n",
    "    doc = nlp(text)\n",
    "    tokens = [stemmer.stem(token.text) for token in doc if not token.is_stop]\n",
    "    preprocessed_text = ' '.join(tokens)\n",
    "    return preprocessed_text\n",
    "\n",
    "HF7['Synopsis'] = HF7['Synopsis'].apply(lambda x: preprocess_synopsis(x))\n",
    "HFC['Synopsis'] = HFC['Synopsis'].apply(lambda x: preprocess_synopsis(x))"
   ]
  },
  {
   "cell_type": "code",
   "execution_count": 7,
   "id": "76545de3-cd46-48fc-b96c-1a1acfbd6fbc",
   "metadata": {},
   "outputs": [
    {
     "name": "stdout",
     "output_type": "stream",
     "text": [
      "#############VECTORIZING THE 7-BINARY WITH BOW#############\n",
      "Now vectorizing with ngrams of lenght 1 1\n",
      "DONE!\n",
      "#############VECTORIZING THE 7-BINARY WITH BOW#############\n",
      "Now vectorizing with ngrams of lenght 1 1\n",
      "DONE!\n"
     ]
    }
   ],
   "source": [
    "#Vectorization.\n",
    "\n",
    "import scipy.sparse\n",
    "from scipy.sparse import vstack\n",
    "from scipy.sparse import csr_matrix\n",
    "from sklearn.feature_extraction.text import CountVectorizer\n",
    "\n",
    "def vectorize_ngrams(database, training, test, n, l, m, k, chars): #chars == chars | wholes\n",
    "    S1_indices = training['ID'].tolist()\n",
    "    S2_indices = test['ID'].tolist()\n",
    "    \n",
    "    aux_indices = database['ID'].tolist()\n",
    "    #Checks for consistensy between full data and splits:\n",
    "    for x in aux_indices:\n",
    "        count=0\n",
    "        if x not in S1_indices:\n",
    "            count+=1\n",
    "        if x not in S2_indices:\n",
    "            count+=1\n",
    "        if count == 2:\n",
    "            raise Exception(\"Error, there are animes in database not in training neither test sets\")\n",
    "    for x in S1_indices:\n",
    "        if x not in aux_indices:\n",
    "            raise Exception(\"Error, there are training animes not in the database\")\n",
    "    for x in S2_indices:\n",
    "        if x not in aux_indices:\n",
    "            raise Exception(\"Error, there are test animes not in the database\")\n",
    "            \n",
    "    S1aux = []\n",
    "    S2aux = []\n",
    "    for i in range(len(aux_indices)):\n",
    "        if aux_indices[i] in S1_indices:\n",
    "            S1aux.append(i)\n",
    "        else: #is in S2, we already checked consistency.\n",
    "            S2aux.append(i)\n",
    "    \n",
    "    S1_indices = S1aux\n",
    "    S2_indices = S2aux\n",
    "\n",
    "    preprocessed_texts = database['Synopsis'].tolist()\n",
    "    #print(len(preprocessed_texts), len(S1_indices), len(S2_indices))\n",
    "    if chars == \"chars\":\n",
    "        print(\"Now vectorizing with ngrams of lenght\", n,n+l, \"plus char ngrams of lenght\", m,m+k)\n",
    "        vectorizer = CountVectorizer(ngram_range=(n, n+l))\n",
    "        char_vectorizer = CountVectorizer(ngram_range=(m,m+k), analyzer='char')\n",
    "        \n",
    "        wholes_vectors = vectorizer.fit_transform(preprocessed_texts)\n",
    "        char_vectors = char_vectorizer.fit_transform(preprocessed_texts)\n",
    "        vectors = scipy.sparse.hstack([wholes_vectors, char_vectors])\n",
    "        \n",
    "        id_to_row = {id_val: row_idx for row_idx, id_val in enumerate(aux_indices)}\n",
    "\n",
    "        S1_vectors = vectors[S1_indices]\n",
    "        S2_vectors = vectors[S2_indices]\n",
    "        print(\"DONE!\")\n",
    "        return vectors, S1_vectors, S2_vectors\n",
    "    elif chars == \"wholes\":\n",
    "        print(\"Now vectorizing with ngrams of lenght\", n,n+l)\n",
    "        vectorizer = CountVectorizer(ngram_range=(n, n+l))\n",
    "        \n",
    "        vectors = vectorizer.fit_transform(preprocessed_texts)\n",
    "        \n",
    "        S1_vectors = vectors[S1_indices]\n",
    "        S2_vectors = vectors[S2_indices]\n",
    "        \n",
    "        S1_vectors = vstack(S1_vectors)\n",
    "        S2_vectors = vstack(S2_vectors)\n",
    "        print(\"DONE!\")\n",
    "        return vectors, S1_vectors, S2_vectors\n",
    "    else:\n",
    "        raise Exception(\"Last argument can only be 'chars' or 'wholes'\")\n",
    "\n",
    "\n",
    "#Split 7-binary into training and test set:\n",
    "HF7_training = HF7.sample(frac=0.8,random_state=42)\n",
    "HF7_test = HF7.drop(HF7_training.index)\n",
    "\n",
    "print(\"#############VECTORIZING THE 7-BINARY WITH BOW#############\")\n",
    "HF7_training_labels = HF7_training['Score'].tolist()\n",
    "HF7_test_labels = HF7_test['Score'].tolist()\n",
    "BoW_HF7_vectors, BoW_HF7_training, BoW_HF7_test = vectorize_ngrams(HF7, HF7_training, HF7_test,1,0,0,0,\"wholes\")\n",
    "\n",
    "\n",
    "#Split balanced into training and test set:\n",
    "HFC_training = HFC.sample(frac=0.8,random_state=42)\n",
    "HFC_test = HFC.drop(HFC_training.index)\n",
    "\n",
    "print(\"#############VECTORIZING THE BALANCED WITH BOW#############\")\n",
    "HFC_training_labels = HFC_training['Score'].tolist()\n",
    "HFC_test_labels = HFC_test['Score'].tolist()\n",
    "BoW_HFC_vectors, BoW_HFC_training, BoW_HFC_test = vectorize_ngrams(HFC, HFC_training, HFC_test,1,0,0,0,\"wholes\")"
   ]
  },
  {
   "cell_type": "code",
   "execution_count": 38,
   "id": "90fbe931-1ba0-4a77-8ccb-3da22b1f7dc0",
   "metadata": {},
   "outputs": [
    {
     "name": "stdout",
     "output_type": "stream",
     "text": [
      "#############VECTORIZING THE 7-BINARY WITH TF-IDF#############\n",
      "DONE!\n",
      "#############VECTORIZING THE BALANCED WITH TF-IDF#############\n",
      "DONE!\n"
     ]
    }
   ],
   "source": [
    "#Results were even worst with a different split of the dataset. Hence, we also add TF-IDF.\n",
    "\n",
    "from sklearn.feature_extraction.text import TfidfVectorizer\n",
    "\n",
    "def tfidf_nator(mxft, X_train, X_test):\n",
    "    tfidf_vectorizer = TfidfVectorizer(max_features=mxft)\n",
    "    return tfidf_vectorizer.fit_transform(X_train), tfidf_vectorizer.transform(X_test)\n",
    "\n",
    "print(\"#############VECTORIZING THE 7-BINARY WITH TF-IDF#############\")\n",
    "TFIDF_HF7_training, TFIDF_HF7_test = tfidf_nator(100000, HF7_training['Synopsis'], HF7_test['Synopsis'])\n",
    "print(\"DONE!\")\n",
    "\n",
    "print(\"#############VECTORIZING THE BALANCED WITH TF-IDF#############\")\n",
    "TFIDF_HFC_training, TFIDF_HFC_test = tfidf_nator(100000, HFC_training['Synopsis'], HFC_test['Synopsis'])\n",
    "print(\"DONE!\")\n"
   ]
  },
  {
   "cell_type": "markdown",
   "id": "ce730722-c8cc-4baa-8b40-4582902fa7a1",
   "metadata": {},
   "source": [
    "STEP 3: Perform classifications (imitating the methods using in the paper).\n",
    "\n",
    "1.- With SVM.\n",
    "\n",
    "2.- With Gaussian Naive Bayes.\n",
    "\n",
    "3.- With Logistic Regression."
   ]
  },
  {
   "cell_type": "code",
   "execution_count": 11,
   "id": "d5f06716-46c0-4148-a7c8-51d1fd0504ac",
   "metadata": {},
   "outputs": [],
   "source": [
    "#At COMIA, we did no fine tunning. Here we did, but default got the best results with all methods :)\n",
    "\n",
    "from sklearn.svm import SVC\n",
    "ssvm = SVC(kernel='linear', C=1.0, gamma='scale', verbose=False)\n",
    "csvm = SVC(kernel='linear', C=1.0, gamma='scale', verbose=False)\n",
    "\n",
    "from sklearn.linear_model import LogisticRegression\n",
    "slr = LogisticRegression(penalty='l2', C=1.0, solver='lbfgs', multi_class='auto', max_iter=100)\n",
    "clr = LogisticRegression(penalty='l2', C=1.0, solver='lbfgs', multi_class='auto', max_iter=100)\n",
    "\n",
    "#Until I figure out how to pass sparse inputs to NB, let's gonna use a Multilayer Perceptron xd\n",
    "from sklearn.neural_network import MLPClassifier\n",
    "smlp = MLPClassifier(\n",
    "                    hidden_layer_sizes=(128,64,32,), activation='relu', solver='adam', alpha=0.0001, \n",
    "                    batch_size='auto', learning_rate='constant', learning_rate_init=0.001, \n",
    "                    max_iter=200, random_state=None)\n",
    "cmlp = MLPClassifier(\n",
    "                    hidden_layer_sizes=(128,64,32,), activation='relu', solver='adam', alpha=0.0001, \n",
    "                    batch_size='auto', learning_rate='constant', learning_rate_init=0.001, \n",
    "                    max_iter=200, random_state=None)"
   ]
  },
  {
   "cell_type": "code",
   "execution_count": 26,
   "id": "62e8453a-a07e-43cc-8da7-e7bc5246cf7f",
   "metadata": {},
   "outputs": [],
   "source": [
    "tssvm = SVC(kernel='linear', C=1.0, gamma='scale', verbose=False)\n",
    "tcsvm = SVC(kernel='linear', C=1.0, gamma='scale', verbose=False)\n",
    "\n",
    "tslr = LogisticRegression(penalty='l2', C=1.0, solver='lbfgs', multi_class='auto', max_iter=100)\n",
    "tclr = LogisticRegression(penalty='l2', C=1.0, solver='lbfgs', multi_class='auto', max_iter=100)\n",
    "\n",
    "tsmlp = MLPClassifier(\n",
    "                    hidden_layer_sizes=(128,64,32,), activation='relu', solver='adam', alpha=0.0001, \n",
    "                    batch_size='auto', learning_rate='constant', learning_rate_init=0.001, \n",
    "                    max_iter=200, random_state=None)\n",
    "tcmlp = MLPClassifier(\n",
    "                    hidden_layer_sizes=(128,64,32,), activation='relu', solver='adam', alpha=0.0001, \n",
    "                    batch_size='auto', learning_rate='constant', learning_rate_init=0.001, \n",
    "                    max_iter=200, random_state=None)"
   ]
  },
  {
   "cell_type": "code",
   "execution_count": 12,
   "id": "e43a2b5b-49c7-416a-94e7-ff392c20218f",
   "metadata": {},
   "outputs": [
    {
     "name": "stderr",
     "output_type": "stream",
     "text": [
      "C:\\Users\\CHQ\\AppData\\Local\\Programs\\Python\\Python311\\Lib\\site-packages\\sklearn\\linear_model\\_logistic.py:460: ConvergenceWarning: lbfgs failed to converge (status=1):\n",
      "STOP: TOTAL NO. of ITERATIONS REACHED LIMIT.\n",
      "\n",
      "Increase the number of iterations (max_iter) or scale the data as shown in:\n",
      "    https://scikit-learn.org/stable/modules/preprocessing.html\n",
      "Please also refer to the documentation for alternative solver options:\n",
      "    https://scikit-learn.org/stable/modules/linear_model.html#logistic-regression\n",
      "  n_iter_i = _check_optimize_result(\n"
     ]
    },
    {
     "data": {
      "text/html": [
       "<style>#sk-container-id-1 {color: black;}#sk-container-id-1 pre{padding: 0;}#sk-container-id-1 div.sk-toggleable {background-color: white;}#sk-container-id-1 label.sk-toggleable__label {cursor: pointer;display: block;width: 100%;margin-bottom: 0;padding: 0.3em;box-sizing: border-box;text-align: center;}#sk-container-id-1 label.sk-toggleable__label-arrow:before {content: \"▸\";float: left;margin-right: 0.25em;color: #696969;}#sk-container-id-1 label.sk-toggleable__label-arrow:hover:before {color: black;}#sk-container-id-1 div.sk-estimator:hover label.sk-toggleable__label-arrow:before {color: black;}#sk-container-id-1 div.sk-toggleable__content {max-height: 0;max-width: 0;overflow: hidden;text-align: left;background-color: #f0f8ff;}#sk-container-id-1 div.sk-toggleable__content pre {margin: 0.2em;color: black;border-radius: 0.25em;background-color: #f0f8ff;}#sk-container-id-1 input.sk-toggleable__control:checked~div.sk-toggleable__content {max-height: 200px;max-width: 100%;overflow: auto;}#sk-container-id-1 input.sk-toggleable__control:checked~label.sk-toggleable__label-arrow:before {content: \"▾\";}#sk-container-id-1 div.sk-estimator input.sk-toggleable__control:checked~label.sk-toggleable__label {background-color: #d4ebff;}#sk-container-id-1 div.sk-label input.sk-toggleable__control:checked~label.sk-toggleable__label {background-color: #d4ebff;}#sk-container-id-1 input.sk-hidden--visually {border: 0;clip: rect(1px 1px 1px 1px);clip: rect(1px, 1px, 1px, 1px);height: 1px;margin: -1px;overflow: hidden;padding: 0;position: absolute;width: 1px;}#sk-container-id-1 div.sk-estimator {font-family: monospace;background-color: #f0f8ff;border: 1px dotted black;border-radius: 0.25em;box-sizing: border-box;margin-bottom: 0.5em;}#sk-container-id-1 div.sk-estimator:hover {background-color: #d4ebff;}#sk-container-id-1 div.sk-parallel-item::after {content: \"\";width: 100%;border-bottom: 1px solid gray;flex-grow: 1;}#sk-container-id-1 div.sk-label:hover label.sk-toggleable__label {background-color: #d4ebff;}#sk-container-id-1 div.sk-serial::before {content: \"\";position: absolute;border-left: 1px solid gray;box-sizing: border-box;top: 0;bottom: 0;left: 50%;z-index: 0;}#sk-container-id-1 div.sk-serial {display: flex;flex-direction: column;align-items: center;background-color: white;padding-right: 0.2em;padding-left: 0.2em;position: relative;}#sk-container-id-1 div.sk-item {position: relative;z-index: 1;}#sk-container-id-1 div.sk-parallel {display: flex;align-items: stretch;justify-content: center;background-color: white;position: relative;}#sk-container-id-1 div.sk-item::before, #sk-container-id-1 div.sk-parallel-item::before {content: \"\";position: absolute;border-left: 1px solid gray;box-sizing: border-box;top: 0;bottom: 0;left: 50%;z-index: -1;}#sk-container-id-1 div.sk-parallel-item {display: flex;flex-direction: column;z-index: 1;position: relative;background-color: white;}#sk-container-id-1 div.sk-parallel-item:first-child::after {align-self: flex-end;width: 50%;}#sk-container-id-1 div.sk-parallel-item:last-child::after {align-self: flex-start;width: 50%;}#sk-container-id-1 div.sk-parallel-item:only-child::after {width: 0;}#sk-container-id-1 div.sk-dashed-wrapped {border: 1px dashed gray;margin: 0 0.4em 0.5em 0.4em;box-sizing: border-box;padding-bottom: 0.4em;background-color: white;}#sk-container-id-1 div.sk-label label {font-family: monospace;font-weight: bold;display: inline-block;line-height: 1.2em;}#sk-container-id-1 div.sk-label-container {text-align: center;}#sk-container-id-1 div.sk-container {/* jupyter's `normalize.less` sets `[hidden] { display: none; }` but bootstrap.min.css set `[hidden] { display: none !important; }` so we also need the `!important` here to be able to override the default hidden behavior on the sphinx rendered scikit-learn.org. See: https://github.com/scikit-learn/scikit-learn/issues/21755 */display: inline-block !important;position: relative;}#sk-container-id-1 div.sk-text-repr-fallback {display: none;}</style><div id=\"sk-container-id-1\" class=\"sk-top-container\"><div class=\"sk-text-repr-fallback\"><pre>MLPClassifier(hidden_layer_sizes=(128, 64, 32))</pre><b>In a Jupyter environment, please rerun this cell to show the HTML representation or trust the notebook. <br />On GitHub, the HTML representation is unable to render, please try loading this page with nbviewer.org.</b></div><div class=\"sk-container\" hidden><div class=\"sk-item\"><div class=\"sk-estimator sk-toggleable\"><input class=\"sk-toggleable__control sk-hidden--visually\" id=\"sk-estimator-id-1\" type=\"checkbox\" checked><label for=\"sk-estimator-id-1\" class=\"sk-toggleable__label sk-toggleable__label-arrow\">MLPClassifier</label><div class=\"sk-toggleable__content\"><pre>MLPClassifier(hidden_layer_sizes=(128, 64, 32))</pre></div></div></div></div></div>"
      ],
      "text/plain": [
       "MLPClassifier(hidden_layer_sizes=(128, 64, 32))"
      ]
     },
     "execution_count": 12,
     "metadata": {},
     "output_type": "execute_result"
    }
   ],
   "source": [
    "#7-binary:\n",
    "ssvm.fit(BoW_HF7_training,HF7_training_labels)\n",
    "slr.fit(BoW_HF7_training,HF7_training_labels)\n",
    "smlp.fit(BoW_HF7_training,HF7_training_labels)"
   ]
  },
  {
   "cell_type": "code",
   "execution_count": 13,
   "id": "95994ead-c330-479d-83af-feb3c7f560ca",
   "metadata": {},
   "outputs": [
    {
     "name": "stderr",
     "output_type": "stream",
     "text": [
      "C:\\Users\\CHQ\\AppData\\Local\\Programs\\Python\\Python311\\Lib\\site-packages\\sklearn\\linear_model\\_logistic.py:460: ConvergenceWarning: lbfgs failed to converge (status=1):\n",
      "STOP: TOTAL NO. of ITERATIONS REACHED LIMIT.\n",
      "\n",
      "Increase the number of iterations (max_iter) or scale the data as shown in:\n",
      "    https://scikit-learn.org/stable/modules/preprocessing.html\n",
      "Please also refer to the documentation for alternative solver options:\n",
      "    https://scikit-learn.org/stable/modules/linear_model.html#logistic-regression\n",
      "  n_iter_i = _check_optimize_result(\n"
     ]
    },
    {
     "data": {
      "text/html": [
       "<style>#sk-container-id-2 {color: black;}#sk-container-id-2 pre{padding: 0;}#sk-container-id-2 div.sk-toggleable {background-color: white;}#sk-container-id-2 label.sk-toggleable__label {cursor: pointer;display: block;width: 100%;margin-bottom: 0;padding: 0.3em;box-sizing: border-box;text-align: center;}#sk-container-id-2 label.sk-toggleable__label-arrow:before {content: \"▸\";float: left;margin-right: 0.25em;color: #696969;}#sk-container-id-2 label.sk-toggleable__label-arrow:hover:before {color: black;}#sk-container-id-2 div.sk-estimator:hover label.sk-toggleable__label-arrow:before {color: black;}#sk-container-id-2 div.sk-toggleable__content {max-height: 0;max-width: 0;overflow: hidden;text-align: left;background-color: #f0f8ff;}#sk-container-id-2 div.sk-toggleable__content pre {margin: 0.2em;color: black;border-radius: 0.25em;background-color: #f0f8ff;}#sk-container-id-2 input.sk-toggleable__control:checked~div.sk-toggleable__content {max-height: 200px;max-width: 100%;overflow: auto;}#sk-container-id-2 input.sk-toggleable__control:checked~label.sk-toggleable__label-arrow:before {content: \"▾\";}#sk-container-id-2 div.sk-estimator input.sk-toggleable__control:checked~label.sk-toggleable__label {background-color: #d4ebff;}#sk-container-id-2 div.sk-label input.sk-toggleable__control:checked~label.sk-toggleable__label {background-color: #d4ebff;}#sk-container-id-2 input.sk-hidden--visually {border: 0;clip: rect(1px 1px 1px 1px);clip: rect(1px, 1px, 1px, 1px);height: 1px;margin: -1px;overflow: hidden;padding: 0;position: absolute;width: 1px;}#sk-container-id-2 div.sk-estimator {font-family: monospace;background-color: #f0f8ff;border: 1px dotted black;border-radius: 0.25em;box-sizing: border-box;margin-bottom: 0.5em;}#sk-container-id-2 div.sk-estimator:hover {background-color: #d4ebff;}#sk-container-id-2 div.sk-parallel-item::after {content: \"\";width: 100%;border-bottom: 1px solid gray;flex-grow: 1;}#sk-container-id-2 div.sk-label:hover label.sk-toggleable__label {background-color: #d4ebff;}#sk-container-id-2 div.sk-serial::before {content: \"\";position: absolute;border-left: 1px solid gray;box-sizing: border-box;top: 0;bottom: 0;left: 50%;z-index: 0;}#sk-container-id-2 div.sk-serial {display: flex;flex-direction: column;align-items: center;background-color: white;padding-right: 0.2em;padding-left: 0.2em;position: relative;}#sk-container-id-2 div.sk-item {position: relative;z-index: 1;}#sk-container-id-2 div.sk-parallel {display: flex;align-items: stretch;justify-content: center;background-color: white;position: relative;}#sk-container-id-2 div.sk-item::before, #sk-container-id-2 div.sk-parallel-item::before {content: \"\";position: absolute;border-left: 1px solid gray;box-sizing: border-box;top: 0;bottom: 0;left: 50%;z-index: -1;}#sk-container-id-2 div.sk-parallel-item {display: flex;flex-direction: column;z-index: 1;position: relative;background-color: white;}#sk-container-id-2 div.sk-parallel-item:first-child::after {align-self: flex-end;width: 50%;}#sk-container-id-2 div.sk-parallel-item:last-child::after {align-self: flex-start;width: 50%;}#sk-container-id-2 div.sk-parallel-item:only-child::after {width: 0;}#sk-container-id-2 div.sk-dashed-wrapped {border: 1px dashed gray;margin: 0 0.4em 0.5em 0.4em;box-sizing: border-box;padding-bottom: 0.4em;background-color: white;}#sk-container-id-2 div.sk-label label {font-family: monospace;font-weight: bold;display: inline-block;line-height: 1.2em;}#sk-container-id-2 div.sk-label-container {text-align: center;}#sk-container-id-2 div.sk-container {/* jupyter's `normalize.less` sets `[hidden] { display: none; }` but bootstrap.min.css set `[hidden] { display: none !important; }` so we also need the `!important` here to be able to override the default hidden behavior on the sphinx rendered scikit-learn.org. See: https://github.com/scikit-learn/scikit-learn/issues/21755 */display: inline-block !important;position: relative;}#sk-container-id-2 div.sk-text-repr-fallback {display: none;}</style><div id=\"sk-container-id-2\" class=\"sk-top-container\"><div class=\"sk-text-repr-fallback\"><pre>MLPClassifier(hidden_layer_sizes=(128, 64, 32))</pre><b>In a Jupyter environment, please rerun this cell to show the HTML representation or trust the notebook. <br />On GitHub, the HTML representation is unable to render, please try loading this page with nbviewer.org.</b></div><div class=\"sk-container\" hidden><div class=\"sk-item\"><div class=\"sk-estimator sk-toggleable\"><input class=\"sk-toggleable__control sk-hidden--visually\" id=\"sk-estimator-id-2\" type=\"checkbox\" checked><label for=\"sk-estimator-id-2\" class=\"sk-toggleable__label sk-toggleable__label-arrow\">MLPClassifier</label><div class=\"sk-toggleable__content\"><pre>MLPClassifier(hidden_layer_sizes=(128, 64, 32))</pre></div></div></div></div></div>"
      ],
      "text/plain": [
       "MLPClassifier(hidden_layer_sizes=(128, 64, 32))"
      ]
     },
     "execution_count": 13,
     "metadata": {},
     "output_type": "execute_result"
    }
   ],
   "source": [
    "#Balanced:\n",
    "csvm.fit(BoW_HFC_training,HFC_training_labels)\n",
    "clr.fit(BoW_HFC_training,HFC_training_labels)\n",
    "cmlp.fit(BoW_HFC_training,HFC_training_labels)"
   ]
  },
  {
   "cell_type": "code",
   "execution_count": 39,
   "id": "f7530f83-b764-404d-88f7-c063a86a2efe",
   "metadata": {},
   "outputs": [
    {
     "data": {
      "text/html": [
       "<style>#sk-container-id-3 {color: black;}#sk-container-id-3 pre{padding: 0;}#sk-container-id-3 div.sk-toggleable {background-color: white;}#sk-container-id-3 label.sk-toggleable__label {cursor: pointer;display: block;width: 100%;margin-bottom: 0;padding: 0.3em;box-sizing: border-box;text-align: center;}#sk-container-id-3 label.sk-toggleable__label-arrow:before {content: \"▸\";float: left;margin-right: 0.25em;color: #696969;}#sk-container-id-3 label.sk-toggleable__label-arrow:hover:before {color: black;}#sk-container-id-3 div.sk-estimator:hover label.sk-toggleable__label-arrow:before {color: black;}#sk-container-id-3 div.sk-toggleable__content {max-height: 0;max-width: 0;overflow: hidden;text-align: left;background-color: #f0f8ff;}#sk-container-id-3 div.sk-toggleable__content pre {margin: 0.2em;color: black;border-radius: 0.25em;background-color: #f0f8ff;}#sk-container-id-3 input.sk-toggleable__control:checked~div.sk-toggleable__content {max-height: 200px;max-width: 100%;overflow: auto;}#sk-container-id-3 input.sk-toggleable__control:checked~label.sk-toggleable__label-arrow:before {content: \"▾\";}#sk-container-id-3 div.sk-estimator input.sk-toggleable__control:checked~label.sk-toggleable__label {background-color: #d4ebff;}#sk-container-id-3 div.sk-label input.sk-toggleable__control:checked~label.sk-toggleable__label {background-color: #d4ebff;}#sk-container-id-3 input.sk-hidden--visually {border: 0;clip: rect(1px 1px 1px 1px);clip: rect(1px, 1px, 1px, 1px);height: 1px;margin: -1px;overflow: hidden;padding: 0;position: absolute;width: 1px;}#sk-container-id-3 div.sk-estimator {font-family: monospace;background-color: #f0f8ff;border: 1px dotted black;border-radius: 0.25em;box-sizing: border-box;margin-bottom: 0.5em;}#sk-container-id-3 div.sk-estimator:hover {background-color: #d4ebff;}#sk-container-id-3 div.sk-parallel-item::after {content: \"\";width: 100%;border-bottom: 1px solid gray;flex-grow: 1;}#sk-container-id-3 div.sk-label:hover label.sk-toggleable__label {background-color: #d4ebff;}#sk-container-id-3 div.sk-serial::before {content: \"\";position: absolute;border-left: 1px solid gray;box-sizing: border-box;top: 0;bottom: 0;left: 50%;z-index: 0;}#sk-container-id-3 div.sk-serial {display: flex;flex-direction: column;align-items: center;background-color: white;padding-right: 0.2em;padding-left: 0.2em;position: relative;}#sk-container-id-3 div.sk-item {position: relative;z-index: 1;}#sk-container-id-3 div.sk-parallel {display: flex;align-items: stretch;justify-content: center;background-color: white;position: relative;}#sk-container-id-3 div.sk-item::before, #sk-container-id-3 div.sk-parallel-item::before {content: \"\";position: absolute;border-left: 1px solid gray;box-sizing: border-box;top: 0;bottom: 0;left: 50%;z-index: -1;}#sk-container-id-3 div.sk-parallel-item {display: flex;flex-direction: column;z-index: 1;position: relative;background-color: white;}#sk-container-id-3 div.sk-parallel-item:first-child::after {align-self: flex-end;width: 50%;}#sk-container-id-3 div.sk-parallel-item:last-child::after {align-self: flex-start;width: 50%;}#sk-container-id-3 div.sk-parallel-item:only-child::after {width: 0;}#sk-container-id-3 div.sk-dashed-wrapped {border: 1px dashed gray;margin: 0 0.4em 0.5em 0.4em;box-sizing: border-box;padding-bottom: 0.4em;background-color: white;}#sk-container-id-3 div.sk-label label {font-family: monospace;font-weight: bold;display: inline-block;line-height: 1.2em;}#sk-container-id-3 div.sk-label-container {text-align: center;}#sk-container-id-3 div.sk-container {/* jupyter's `normalize.less` sets `[hidden] { display: none; }` but bootstrap.min.css set `[hidden] { display: none !important; }` so we also need the `!important` here to be able to override the default hidden behavior on the sphinx rendered scikit-learn.org. See: https://github.com/scikit-learn/scikit-learn/issues/21755 */display: inline-block !important;position: relative;}#sk-container-id-3 div.sk-text-repr-fallback {display: none;}</style><div id=\"sk-container-id-3\" class=\"sk-top-container\"><div class=\"sk-text-repr-fallback\"><pre>MLPClassifier(hidden_layer_sizes=(128, 64, 32))</pre><b>In a Jupyter environment, please rerun this cell to show the HTML representation or trust the notebook. <br />On GitHub, the HTML representation is unable to render, please try loading this page with nbviewer.org.</b></div><div class=\"sk-container\" hidden><div class=\"sk-item\"><div class=\"sk-estimator sk-toggleable\"><input class=\"sk-toggleable__control sk-hidden--visually\" id=\"sk-estimator-id-3\" type=\"checkbox\" checked><label for=\"sk-estimator-id-3\" class=\"sk-toggleable__label sk-toggleable__label-arrow\">MLPClassifier</label><div class=\"sk-toggleable__content\"><pre>MLPClassifier(hidden_layer_sizes=(128, 64, 32))</pre></div></div></div></div></div>"
      ],
      "text/plain": [
       "MLPClassifier(hidden_layer_sizes=(128, 64, 32))"
      ]
     },
     "execution_count": 39,
     "metadata": {},
     "output_type": "execute_result"
    }
   ],
   "source": [
    "#TF-IDF\n",
    "tssvm.fit(TFIDF_HF7_training,HF7_training_labels)\n",
    "tslr.fit(TFIDF_HF7_training,HF7_training_labels)\n",
    "tsmlp.fit(TFIDF_HF7_training,HF7_training_labels)\n",
    "\n",
    "tcsvm.fit(TFIDF_HFC_training,HFC_training_labels)\n",
    "tclr.fit(TFIDF_HFC_training,HFC_training_labels)\n",
    "tcmlp.fit(TFIDF_HFC_training,HFC_training_labels)"
   ]
  },
  {
   "cell_type": "code",
   "execution_count": 42,
   "id": "4146b95c-afe5-4b8c-955b-75cfffe9aa31",
   "metadata": {},
   "outputs": [
    {
     "name": "stdout",
     "output_type": "stream",
     "text": [
      "TF-TDF 7-binary SVM. Acc and F1 scores for each class:\n",
      "Accuracy: 0.777\n",
      "Class 0: 0.782\n",
      "Class 1: 0.771\n",
      "Macro F1: 0.776\n",
      "\n",
      "\n",
      "TF-TDF 7-binary MLP. Acc and F1 scores for each class:\n",
      "Accuracy: 0.767\n",
      "Class 0: 0.768\n",
      "Class 1: 0.766\n",
      "Macro F1: 0.767\n",
      "\n",
      "\n",
      "TF-TDF 7-binary Logistic Regression. Acc and F1 scores for each class:\n",
      "Accuracy: 0.765\n",
      "Class 0: 0.767\n",
      "Class 1: 0.764\n",
      "Macro F1: 0.765\n",
      "\n",
      "\n",
      "TF-TDF Balanced SVM. Acc and F1 scores for each class:\n",
      "Accuracy: 0.714\n",
      "Class 0: 0.711\n",
      "Class 1: 0.717\n",
      "Macro F1: 0.714\n",
      "\n",
      "\n",
      "TF-TDF Balanced MLP. Acc and F1 scores for each class:\n",
      "Accuracy: 0.686\n",
      "Class 0: 0.701\n",
      "Class 1: 0.67\n",
      "Macro F1: 0.685\n",
      "\n",
      "\n",
      "TF-TDF Balanced Logistic Regression. Acc and F1 scores for each class:\n",
      "Accuracy: 0.709\n",
      "Class 0: 0.701\n",
      "Class 1: 0.716\n",
      "Macro F1: 0.709\n"
     ]
    }
   ],
   "source": [
    "from sklearn.metrics import f1_score\n",
    "from sklearn.metrics import accuracy_score\n",
    "\n",
    "#ENHANCED RESULTS USING TF-IDF INSTEAD OF NGRAMS (BoW).\n",
    "\n",
    "tssvm_y_pred = tssvm.predict(TFIDF_HF7_test)\n",
    "\n",
    "tssvm_accuracy = accuracy_score(HF7_test_labels, tssvm_y_pred)\n",
    "tssvm_f1_scores = f1_score(HF7_test_labels, tssvm_y_pred, average=None)\n",
    "tssvm_macro_f1 = f1_score(HF7_test_labels, tssvm_y_pred, average='macro')\n",
    "\n",
    "print(\"TF-TDF 7-binary SVM. Acc and F1 scores for each class:\")\n",
    "print(f\"Accuracy: {round(tssvm_accuracy,3)}\")\n",
    "for i, f1 in enumerate(tssvm_f1_scores):\n",
    "    print(f\"Class {i}: {round(f1,3)}\")\n",
    "print(f\"Macro F1: {round(tssvm_macro_f1,3)}\\n\\n\")\n",
    "\n",
    "\n",
    "\n",
    "tsmlp_y_pred = tsmlp.predict(TFIDF_HF7_test)\n",
    "\n",
    "tsmlp_accuracy = accuracy_score(HF7_test_labels, tsmlp_y_pred)\n",
    "tsmlp_f1_scores = f1_score(HF7_test_labels, tsmlp_y_pred, average=None)\n",
    "tsmlp_macro_f1 = f1_score(HF7_test_labels, tsmlp_y_pred, average='macro')\n",
    "\n",
    "print(\"TF-TDF 7-binary MLP. Acc and F1 scores for each class:\")\n",
    "print(f\"Accuracy: {round(tsmlp_accuracy,3)}\")\n",
    "for i, f1 in enumerate(tsmlp_f1_scores):\n",
    "    print(f\"Class {i}: {round(f1,3)}\")\n",
    "print(f\"Macro F1: {round(tsmlp_macro_f1,3)}\\n\\n\")\n",
    "\n",
    "\n",
    "\n",
    "tslr_y_pred = tslr.predict(TFIDF_HF7_test)\n",
    "\n",
    "tslr_accuracy = accuracy_score(HF7_test_labels, tslr_y_pred)\n",
    "tslr_f1_scores = f1_score(HF7_test_labels, tslr_y_pred, average=None)\n",
    "tslr_macro_f1 = f1_score(HF7_test_labels, tslr_y_pred, average='macro')\n",
    "\n",
    "print(\"TF-TDF 7-binary Logistic Regression. Acc and F1 scores for each class:\")\n",
    "print(f\"Accuracy: {round(tslr_accuracy,3)}\")\n",
    "for i, f1 in enumerate(tslr_f1_scores):\n",
    "    print(f\"Class {i}: {round(f1,3)}\")\n",
    "print(f\"Macro F1: {round(tslr_macro_f1,3)}\\n\\n\")\n",
    "\n",
    "\n",
    "\n",
    "tcsvm_y_pred = tcsvm.predict(TFIDF_HFC_test)\n",
    "\n",
    "tcsvm_accuracy = accuracy_score(HFC_test_labels, tcsvm_y_pred)\n",
    "tcsvm_f1_scores = f1_score(HFC_test_labels, tcsvm_y_pred, average=None)\n",
    "tcsvm_macro_f1 = f1_score(HFC_test_labels, tcsvm_y_pred, average='macro')\n",
    "\n",
    "print(\"TF-TDF Balanced SVM. Acc and F1 scores for each class:\")\n",
    "print(f\"Accuracy: {round(tcsvm_accuracy,3)}\")\n",
    "for i, f1 in enumerate(tcsvm_f1_scores):\n",
    "    print(f\"Class {i}: {round(f1,3)}\")\n",
    "print(f\"Macro F1: {round(tcsvm_macro_f1,3)}\\n\\n\")\n",
    "\n",
    "\n",
    "tcmlp_y_pred = tcmlp.predict(TFIDF_HFC_test)\n",
    "\n",
    "tcmlp_accuracy = accuracy_score(HFC_test_labels, tcmlp_y_pred)\n",
    "tcmlp_f1_scores = f1_score(HFC_test_labels, tcmlp_y_pred, average=None)\n",
    "tcmlp_macro_f1 = f1_score(HFC_test_labels, tcmlp_y_pred, average='macro')\n",
    "\n",
    "print(\"TF-TDF Balanced MLP. Acc and F1 scores for each class:\")\n",
    "print(f\"Accuracy: {round(tcmlp_accuracy,3)}\")\n",
    "for i, f1 in enumerate(tcmlp_f1_scores):\n",
    "    print(f\"Class {i}: {round(f1,3)}\")\n",
    "print(f\"Macro F1: {round(tcmlp_macro_f1,3)}\\n\\n\")\n",
    "\n",
    "\n",
    "\n",
    "tclr_y_pred = tclr.predict(TFIDF_HFC_test)\n",
    "\n",
    "tclr_accuracy = accuracy_score(HFC_test_labels, tclr_y_pred)\n",
    "tclr_f1_scores = f1_score(HFC_test_labels, tclr_y_pred, average=None)\n",
    "tclr_macro_f1 = f1_score(HFC_test_labels, tclr_y_pred, average='macro')\n",
    "\n",
    "print(\"TF-TDF Balanced Logistic Regression. Acc and F1 scores for each class:\")\n",
    "print(f\"Accuracy: {round(tclr_accuracy,3)}\")\n",
    "for i, f1 in enumerate(tclr_f1_scores):\n",
    "    print(f\"Class {i}: {round(f1,3)}\")\n",
    "print(f\"Macro F1: {round(tclr_macro_f1,3)}\")"
   ]
  },
  {
   "cell_type": "code",
   "execution_count": 16,
   "id": "457cb532-53d2-40a1-9c4b-d0c8daae0e2d",
   "metadata": {},
   "outputs": [
    {
     "name": "stdout",
     "output_type": "stream",
     "text": [
      "7-binary SVM. Acc and F1 scores for each class:\n",
      "Accuracy: 0.5152643335815339\n",
      "Class 0: 0.515264333581534\n",
      "Class 1: 0.515264333581534\n",
      "Macro F1: 0.515264333581534\n"
     ]
    }
   ],
   "source": [
    "from sklearn.metrics import f1_score\n",
    "from sklearn.metrics import accuracy_score\n",
    "\n",
    "#With respect to COMIA, we also added Macro F1 as main metric.\n",
    "\n",
    "ssvm_y_pred = ssvm.predict(BoW_HF7_test)\n",
    "\n",
    "ssvm_accuracy = accuracy_score(HF7_test_labels, ssvm_y_pred)\n",
    "ssvm_f1_scores = f1_score(HF7_test_labels, ssvm_y_pred, average=None)\n",
    "ssvm_macro_f1 = f1_score(HF7_test_labels, ssvm_y_pred, average='macro')\n",
    "\n",
    "print(\"7-binary SVM. Acc and F1 scores for each class:\")\n",
    "print(f\"Accuracy: {ssvm_accuracy}\")\n",
    "for i, f1 in enumerate(ssvm_f1_scores):\n",
    "    print(f\"Class {i}: {f1}\")\n",
    "print(f\"Macro F1: {ssvm_macro_f1}\")"
   ]
  },
  {
   "cell_type": "code",
   "execution_count": 17,
   "id": "223569f1-1f55-48e7-a1df-26176eb7b1ca",
   "metadata": {},
   "outputs": [
    {
     "name": "stdout",
     "output_type": "stream",
     "text": [
      "7-binary MLP. Acc and F1 scores for each class:\n",
      "Accuracy: 0.509307520476545\n",
      "Class 0: 0.48715953307392995\n",
      "Class 1: 0.5296216987865809\n",
      "Macro F1: 0.5083906159302555\n"
     ]
    }
   ],
   "source": [
    "smlp_y_pred = smlp.predict(BoW_HF7_test)\n",
    "\n",
    "smlp_accuracy = accuracy_score(HF7_test_labels, smlp_y_pred)\n",
    "smlp_f1_scores = f1_score(HF7_test_labels, smlp_y_pred, average=None)\n",
    "smlp_macro_f1 = f1_score(HF7_test_labels, smlp_y_pred, average='macro')\n",
    "\n",
    "print(\"7-binary MLP. Acc and F1 scores for each class:\")\n",
    "print(f\"Accuracy: {smlp_accuracy}\")\n",
    "for i, f1 in enumerate(smlp_f1_scores):\n",
    "    print(f\"Class {i}: {f1}\")\n",
    "print(f\"Macro F1: {smlp_macro_f1}\")"
   ]
  },
  {
   "cell_type": "code",
   "execution_count": 18,
   "id": "d5fb63b5-b2d8-4499-a0db-bd87ef72fd4f",
   "metadata": {},
   "outputs": [
    {
     "name": "stdout",
     "output_type": "stream",
     "text": [
      "7-binary Logistic Regression. Acc and F1 scores for each class:\n",
      "Accuracy: 0.5048399106478034\n",
      "Class 0: 0.5063103192279139\n",
      "Class 1: 0.5033607169529499\n",
      "Macro F1: 0.5048355180904319\n"
     ]
    }
   ],
   "source": [
    "slr_y_pred = slr.predict(BoW_HF7_test)\n",
    "\n",
    "slr_accuracy = accuracy_score(HF7_test_labels, slr_y_pred)\n",
    "slr_f1_scores = f1_score(HF7_test_labels, slr_y_pred, average=None)\n",
    "slr_macro_f1 = f1_score(HF7_test_labels, slr_y_pred, average='macro')\n",
    "\n",
    "print(\"7-binary Logistic Regression. Acc and F1 scores for each class:\")\n",
    "print(f\"Accuracy: {slr_accuracy}\")\n",
    "for i, f1 in enumerate(slr_f1_scores):\n",
    "    print(f\"Class {i}: {f1}\")\n",
    "print(f\"Macro F1: {slr_macro_f1}\")"
   ]
  },
  {
   "cell_type": "code",
   "execution_count": 20,
   "id": "0aedfa53-71ac-45f3-822c-b5bf2d4dae25",
   "metadata": {},
   "outputs": [
    {
     "name": "stdout",
     "output_type": "stream",
     "text": [
      "Balanced SVM. Acc and F1 scores for each class:\n",
      "Accuracy: 0.5031712473572939\n",
      "Class 0: 0.5104166666666666\n",
      "Class 1: 0.4957081545064378\n",
      "Macro F1: 0.5030624105865522\n"
     ]
    }
   ],
   "source": [
    "from sklearn.metrics import f1_score\n",
    "from sklearn.metrics import accuracy_score\n",
    "\n",
    "csvm_y_pred = csvm.predict(BoW_HFC_test)\n",
    "\n",
    "csvm_accuracy = accuracy_score(HFC_test_labels, csvm_y_pred)\n",
    "csvm_f1_scores = f1_score(HFC_test_labels, csvm_y_pred, average=None)\n",
    "csvm_macro_f1 = f1_score(HFC_test_labels, csvm_y_pred, average='macro')\n",
    "\n",
    "print(\"Balanced SVM. Acc and F1 scores for each class:\")\n",
    "print(f\"Accuracy: {csvm_accuracy}\")\n",
    "for i, f1 in enumerate(csvm_f1_scores):\n",
    "    print(f\"Class {i}: {f1}\")\n",
    "print(f\"Macro F1: {csvm_macro_f1}\")"
   ]
  },
  {
   "cell_type": "code",
   "execution_count": 21,
   "id": "5e14a9c2-3680-4b29-92b0-bc6d7f530273",
   "metadata": {},
   "outputs": [
    {
     "name": "stdout",
     "output_type": "stream",
     "text": [
      "Balanced MLP. Acc and F1 scores for each class:\n",
      "Accuracy: 0.5174418604651163\n",
      "Class 0: 0.49917718047174986\n",
      "Class 1: 0.5344212136664965\n",
      "Macro F1: 0.5167991970691233\n"
     ]
    }
   ],
   "source": [
    "cmlp_y_pred = cmlp.predict(BoW_HFC_test)\n",
    "\n",
    "cmlp_accuracy = accuracy_score(HFC_test_labels, cmlp_y_pred)\n",
    "cmlp_f1_scores = f1_score(HFC_test_labels, cmlp_y_pred, average=None)\n",
    "cmlp_macro_f1 = f1_score(HFC_test_labels, cmlp_y_pred, average='macro')\n",
    "\n",
    "print(\"Balanced MLP. Acc and F1 scores for each class:\")\n",
    "print(f\"Accuracy: {cmlp_accuracy}\")\n",
    "for i, f1 in enumerate(cmlp_f1_scores):\n",
    "    print(f\"Class {i}: {f1}\")\n",
    "print(f\"Macro F1: {cmlp_macro_f1}\")"
   ]
  },
  {
   "cell_type": "code",
   "execution_count": 22,
   "id": "ba89f85b-82dd-4c10-be8a-e8c678db35cc",
   "metadata": {},
   "outputs": [
    {
     "name": "stdout",
     "output_type": "stream",
     "text": [
      "Balanced Logistic Regression. Acc and F1 scores for each class:\n",
      "Accuracy: 0.508985200845666\n",
      "Class 0: 0.5092445853143159\n",
      "Class 1: 0.5087255420412481\n",
      "Macro F1: 0.508985063677782\n"
     ]
    }
   ],
   "source": [
    "clr_y_pred = clr.predict(BoW_HFC_test)\n",
    "\n",
    "clr_accuracy = accuracy_score(HFC_test_labels, clr_y_pred)\n",
    "clr_f1_scores = f1_score(HFC_test_labels, clr_y_pred, average=None)\n",
    "clr_macro_f1 = f1_score(HFC_test_labels, clr_y_pred, average='macro')\n",
    "\n",
    "print(\"Balanced Logistic Regression. Acc and F1 scores for each class:\")\n",
    "print(f\"Accuracy: {clr_accuracy}\")\n",
    "for i, f1 in enumerate(clr_f1_scores):\n",
    "    print(f\"Class {i}: {f1}\")\n",
    "print(f\"Macro F1: {clr_macro_f1}\")"
   ]
  }
 ],
 "metadata": {
  "kernelspec": {
   "display_name": "Python 3 (ipykernel)",
   "language": "python",
   "name": "python3"
  },
  "language_info": {
   "codemirror_mode": {
    "name": "ipython",
    "version": 3
   },
   "file_extension": ".py",
   "mimetype": "text/x-python",
   "name": "python",
   "nbconvert_exporter": "python",
   "pygments_lexer": "ipython3",
   "version": "3.11.5"
  }
 },
 "nbformat": 4,
 "nbformat_minor": 5
}
